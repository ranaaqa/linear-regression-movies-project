{
 "cells": [
  {
   "cell_type": "code",
   "execution_count": 217,
   "id": "60e5f433",
   "metadata": {},
   "outputs": [],
   "source": [
    "# Necessary imports\n",
    "import pandas as pd\n",
    "import numpy as np\n",
    "import statsmodels.api as sm\n",
    "import statsmodels.formula.api as smf\n",
    "import patsy\n",
    "from sklearn.linear_model import LinearRegression, Lasso, LassoCV, Ridge, RidgeCV\n",
    "import seaborn as sns\n",
    "from datetime import datetime\n",
    "from sklearn.metrics import r2_score\n",
    "\n",
    "\n",
    "import matplotlib.pyplot as plt\n",
    "from sklearn.linear_model import LinearRegression\n",
    "from sklearn.linear_model import RidgeCV\n",
    "%matplotlib inline"
   ]
  },
  {
   "cell_type": "code",
   "execution_count": 218,
   "id": "7fd74e7c",
   "metadata": {},
   "outputs": [],
   "source": [
    "# Load data\n",
    "movies=pd.read_csv('movies.csv')"
   ]
  },
  {
   "cell_type": "code",
   "execution_count": 219,
   "id": "323dc2e7",
   "metadata": {},
   "outputs": [],
   "source": [
    "#clean\n",
    "del movies['Unnamed: 0']\n",
    "movies=movies.dropna()\n",
    "\n",
    "#movies"
   ]
  },
  {
   "cell_type": "code",
   "execution_count": 220,
   "id": "d7434603",
   "metadata": {},
   "outputs": [],
   "source": [
    "R_time=[]\n",
    "for i in range(len(movies.Runtime)):\n",
    "         R_time.append(int(movies.Runtime[i][0:movies.Runtime[i].find('min')].strip().lower()))"
   ]
  },
  {
   "cell_type": "code",
   "execution_count": 221,
   "id": "63f695e5",
   "metadata": {},
   "outputs": [],
   "source": [
    "#R_time\n",
    "movies['Runtime']=R_time"
   ]
  },
  {
   "cell_type": "code",
   "execution_count": 222,
   "id": "1758d942",
   "metadata": {},
   "outputs": [],
   "source": [
    "#datetime.strptime(movies.ReleaseDate[0],'%b %d %Y').year"
   ]
  },
  {
   "cell_type": "code",
   "execution_count": 223,
   "id": "0e356090",
   "metadata": {},
   "outputs": [],
   "source": [
    "#convert format of ReleaseDate\n",
    "\n",
    "m_date=[]\n",
    "for d in range(len(movies.ReleaseDate)):\n",
    "         \n",
    "        #m_date.append(datetime.strptime(movies.ReleaseDate[d],'%b %d %Y').year)\n",
    "        m_date.append(datetime.strptime(movies.ReleaseDate[d],'%b %d %Y'))"
   ]
  },
  {
   "cell_type": "code",
   "execution_count": 224,
   "id": "f193be7e",
   "metadata": {},
   "outputs": [],
   "source": [
    "movies['ReleaseDate']=m_date"
   ]
  },
  {
   "cell_type": "markdown",
   "id": "aa6b909d",
   "metadata": {},
   "source": [
    "Feature Engineering"
   ]
  },
  {
   "cell_type": "code",
   "execution_count": 225,
   "id": "f1d633b7",
   "metadata": {},
   "outputs": [],
   "source": [
    "#Create new variable \"Primetime\", indicating if a movie was released during a typically successful time of year (summer or holiday season).\n",
    "\n",
    "\n",
    "primetime=[]\n",
    "\n",
    "for e in m_date:\n",
    "    try:\n",
    "        d3=e.month\n",
    "        if d3 in [5,6,7,11,12]:\n",
    "            primetime.append(1)\n",
    "        else:\n",
    "            primetime.append(0)\n",
    "    except:\n",
    "        primetime.append(np.nan)"
   ]
  },
  {
   "cell_type": "code",
   "execution_count": 226,
   "id": "e7eaa70c",
   "metadata": {},
   "outputs": [
    {
     "data": {
      "text/html": [
       "<div>\n",
       "<style scoped>\n",
       "    .dataframe tbody tr th:only-of-type {\n",
       "        vertical-align: middle;\n",
       "    }\n",
       "\n",
       "    .dataframe tbody tr th {\n",
       "        vertical-align: top;\n",
       "    }\n",
       "\n",
       "    .dataframe thead th {\n",
       "        text-align: right;\n",
       "    }\n",
       "</style>\n",
       "<table border=\"1\" class=\"dataframe\">\n",
       "  <thead>\n",
       "    <tr style=\"text-align: right;\">\n",
       "      <th></th>\n",
       "      <th>Title</th>\n",
       "      <th>Rating</th>\n",
       "      <th>Runtime</th>\n",
       "      <th>IMDB_Score</th>\n",
       "      <th>Action</th>\n",
       "      <th>Adventure</th>\n",
       "      <th>Biography</th>\n",
       "      <th>Comedy</th>\n",
       "      <th>Crime</th>\n",
       "      <th>Documentary</th>\n",
       "      <th>...</th>\n",
       "      <th>Thriller</th>\n",
       "      <th>War</th>\n",
       "      <th>Western</th>\n",
       "      <th>Theaters</th>\n",
       "      <th>Total Gross</th>\n",
       "      <th>Budget</th>\n",
       "      <th>DomesticGross</th>\n",
       "      <th>WorldwideGross</th>\n",
       "      <th>ReleaseDate</th>\n",
       "      <th>primetime</th>\n",
       "    </tr>\n",
       "  </thead>\n",
       "  <tbody>\n",
       "    <tr>\n",
       "      <th>0</th>\n",
       "      <td>Casino Royale</td>\n",
       "      <td>4.0</td>\n",
       "      <td>144</td>\n",
       "      <td>8.0</td>\n",
       "      <td>1</td>\n",
       "      <td>1</td>\n",
       "      <td>0</td>\n",
       "      <td>0</td>\n",
       "      <td>0</td>\n",
       "      <td>0</td>\n",
       "      <td>...</td>\n",
       "      <td>1</td>\n",
       "      <td>0</td>\n",
       "      <td>0</td>\n",
       "      <td>3434</td>\n",
       "      <td>167445960</td>\n",
       "      <td>102000000</td>\n",
       "      <td>167365000</td>\n",
       "      <td>594420283</td>\n",
       "      <td>2006-11-17</td>\n",
       "      <td>1</td>\n",
       "    </tr>\n",
       "    <tr>\n",
       "      <th>1</th>\n",
       "      <td>Casino Royale</td>\n",
       "      <td>4.0</td>\n",
       "      <td>144</td>\n",
       "      <td>8.0</td>\n",
       "      <td>1</td>\n",
       "      <td>1</td>\n",
       "      <td>0</td>\n",
       "      <td>0</td>\n",
       "      <td>0</td>\n",
       "      <td>0</td>\n",
       "      <td>...</td>\n",
       "      <td>1</td>\n",
       "      <td>0</td>\n",
       "      <td>0</td>\n",
       "      <td>3434</td>\n",
       "      <td>167445960</td>\n",
       "      <td>12000000</td>\n",
       "      <td>22744718</td>\n",
       "      <td>41744718</td>\n",
       "      <td>1967-04-28</td>\n",
       "      <td>0</td>\n",
       "    </tr>\n",
       "    <tr>\n",
       "      <th>2</th>\n",
       "      <td>Dune</td>\n",
       "      <td>2.0</td>\n",
       "      <td>137</td>\n",
       "      <td>6.4</td>\n",
       "      <td>1</td>\n",
       "      <td>1</td>\n",
       "      <td>0</td>\n",
       "      <td>0</td>\n",
       "      <td>0</td>\n",
       "      <td>0</td>\n",
       "      <td>...</td>\n",
       "      <td>0</td>\n",
       "      <td>0</td>\n",
       "      <td>0</td>\n",
       "      <td>4125</td>\n",
       "      <td>17500000</td>\n",
       "      <td>165000000</td>\n",
       "      <td>40100000</td>\n",
       "      <td>161664741</td>\n",
       "      <td>2021-09-15</td>\n",
       "      <td>0</td>\n",
       "    </tr>\n",
       "    <tr>\n",
       "      <th>3</th>\n",
       "      <td>Dune</td>\n",
       "      <td>2.0</td>\n",
       "      <td>137</td>\n",
       "      <td>6.4</td>\n",
       "      <td>1</td>\n",
       "      <td>1</td>\n",
       "      <td>0</td>\n",
       "      <td>0</td>\n",
       "      <td>0</td>\n",
       "      <td>0</td>\n",
       "      <td>...</td>\n",
       "      <td>0</td>\n",
       "      <td>0</td>\n",
       "      <td>0</td>\n",
       "      <td>4125</td>\n",
       "      <td>17500000</td>\n",
       "      <td>45000000</td>\n",
       "      <td>27447471</td>\n",
       "      <td>27449336</td>\n",
       "      <td>1984-12-14</td>\n",
       "      <td>1</td>\n",
       "    </tr>\n",
       "    <tr>\n",
       "      <th>4</th>\n",
       "      <td>It</td>\n",
       "      <td>2.0</td>\n",
       "      <td>192</td>\n",
       "      <td>6.8</td>\n",
       "      <td>0</td>\n",
       "      <td>0</td>\n",
       "      <td>0</td>\n",
       "      <td>0</td>\n",
       "      <td>0</td>\n",
       "      <td>0</td>\n",
       "      <td>...</td>\n",
       "      <td>0</td>\n",
       "      <td>0</td>\n",
       "      <td>0</td>\n",
       "      <td>4103</td>\n",
       "      <td>327481748</td>\n",
       "      <td>35000000</td>\n",
       "      <td>328828874</td>\n",
       "      <td>701083042</td>\n",
       "      <td>2017-08-31</td>\n",
       "      <td>0</td>\n",
       "    </tr>\n",
       "    <tr>\n",
       "      <th>...</th>\n",
       "      <td>...</td>\n",
       "      <td>...</td>\n",
       "      <td>...</td>\n",
       "      <td>...</td>\n",
       "      <td>...</td>\n",
       "      <td>...</td>\n",
       "      <td>...</td>\n",
       "      <td>...</td>\n",
       "      <td>...</td>\n",
       "      <td>...</td>\n",
       "      <td>...</td>\n",
       "      <td>...</td>\n",
       "      <td>...</td>\n",
       "      <td>...</td>\n",
       "      <td>...</td>\n",
       "      <td>...</td>\n",
       "      <td>...</td>\n",
       "      <td>...</td>\n",
       "      <td>...</td>\n",
       "      <td>...</td>\n",
       "      <td>...</td>\n",
       "    </tr>\n",
       "    <tr>\n",
       "      <th>132</th>\n",
       "      <td>The Taking of Pelham 123</td>\n",
       "      <td>3.0</td>\n",
       "      <td>106</td>\n",
       "      <td>6.4</td>\n",
       "      <td>1</td>\n",
       "      <td>0</td>\n",
       "      <td>0</td>\n",
       "      <td>0</td>\n",
       "      <td>1</td>\n",
       "      <td>0</td>\n",
       "      <td>...</td>\n",
       "      <td>1</td>\n",
       "      <td>0</td>\n",
       "      <td>0</td>\n",
       "      <td>3074</td>\n",
       "      <td>65452312</td>\n",
       "      <td>110000000</td>\n",
       "      <td>65452312</td>\n",
       "      <td>152364370</td>\n",
       "      <td>2009-06-12</td>\n",
       "      <td>1</td>\n",
       "    </tr>\n",
       "    <tr>\n",
       "      <th>133</th>\n",
       "      <td>The Stepford Wives</td>\n",
       "      <td>4.0</td>\n",
       "      <td>93</td>\n",
       "      <td>5.3</td>\n",
       "      <td>0</td>\n",
       "      <td>0</td>\n",
       "      <td>0</td>\n",
       "      <td>1</td>\n",
       "      <td>0</td>\n",
       "      <td>0</td>\n",
       "      <td>...</td>\n",
       "      <td>0</td>\n",
       "      <td>0</td>\n",
       "      <td>0</td>\n",
       "      <td>3057</td>\n",
       "      <td>59484742</td>\n",
       "      <td>100000000</td>\n",
       "      <td>59475623</td>\n",
       "      <td>96150482</td>\n",
       "      <td>2004-06-11</td>\n",
       "      <td>1</td>\n",
       "    </tr>\n",
       "    <tr>\n",
       "      <th>134</th>\n",
       "      <td>Diary of a Wimpy Kid: Rodrick Rules</td>\n",
       "      <td>2.0</td>\n",
       "      <td>100</td>\n",
       "      <td>6.5</td>\n",
       "      <td>0</td>\n",
       "      <td>0</td>\n",
       "      <td>0</td>\n",
       "      <td>1</td>\n",
       "      <td>0</td>\n",
       "      <td>0</td>\n",
       "      <td>...</td>\n",
       "      <td>0</td>\n",
       "      <td>0</td>\n",
       "      <td>0</td>\n",
       "      <td>3167</td>\n",
       "      <td>52698535</td>\n",
       "      <td>18000000</td>\n",
       "      <td>52698535</td>\n",
       "      <td>73695194</td>\n",
       "      <td>2011-03-25</td>\n",
       "      <td>0</td>\n",
       "    </tr>\n",
       "    <tr>\n",
       "      <th>135</th>\n",
       "      <td>Captain Underpants: The First Epic Movie</td>\n",
       "      <td>2.0</td>\n",
       "      <td>89</td>\n",
       "      <td>6.2</td>\n",
       "      <td>1</td>\n",
       "      <td>1</td>\n",
       "      <td>0</td>\n",
       "      <td>0</td>\n",
       "      <td>0</td>\n",
       "      <td>0</td>\n",
       "      <td>...</td>\n",
       "      <td>0</td>\n",
       "      <td>0</td>\n",
       "      <td>0</td>\n",
       "      <td>3434</td>\n",
       "      <td>73921000</td>\n",
       "      <td>38000000</td>\n",
       "      <td>73921000</td>\n",
       "      <td>126422949</td>\n",
       "      <td>2017-06-02</td>\n",
       "      <td>1</td>\n",
       "    </tr>\n",
       "    <tr>\n",
       "      <th>136</th>\n",
       "      <td>Rampage</td>\n",
       "      <td>3.0</td>\n",
       "      <td>97</td>\n",
       "      <td>6.2</td>\n",
       "      <td>0</td>\n",
       "      <td>0</td>\n",
       "      <td>0</td>\n",
       "      <td>0</td>\n",
       "      <td>0</td>\n",
       "      <td>0</td>\n",
       "      <td>...</td>\n",
       "      <td>1</td>\n",
       "      <td>0</td>\n",
       "      <td>0</td>\n",
       "      <td>4101</td>\n",
       "      <td>101028233</td>\n",
       "      <td>120000000</td>\n",
       "      <td>101028233</td>\n",
       "      <td>427947217</td>\n",
       "      <td>2018-04-09</td>\n",
       "      <td>0</td>\n",
       "    </tr>\n",
       "  </tbody>\n",
       "</table>\n",
       "<p>137 rows × 28 columns</p>\n",
       "</div>"
      ],
      "text/plain": [
       "                                        Title  Rating  Runtime  IMDB_Score  \\\n",
       "0                               Casino Royale     4.0      144         8.0   \n",
       "1                               Casino Royale     4.0      144         8.0   \n",
       "2                                        Dune     2.0      137         6.4   \n",
       "3                                        Dune     2.0      137         6.4   \n",
       "4                                          It     2.0      192         6.8   \n",
       "..                                        ...     ...      ...         ...   \n",
       "132                  The Taking of Pelham 123     3.0      106         6.4   \n",
       "133                        The Stepford Wives     4.0       93         5.3   \n",
       "134       Diary of a Wimpy Kid: Rodrick Rules     2.0      100         6.5   \n",
       "135  Captain Underpants: The First Epic Movie     2.0       89         6.2   \n",
       "136                                   Rampage     3.0       97         6.2   \n",
       "\n",
       "     Action  Adventure  Biography  Comedy  Crime  Documentary  ...  Thriller  \\\n",
       "0         1          1          0       0      0            0  ...         1   \n",
       "1         1          1          0       0      0            0  ...         1   \n",
       "2         1          1          0       0      0            0  ...         0   \n",
       "3         1          1          0       0      0            0  ...         0   \n",
       "4         0          0          0       0      0            0  ...         0   \n",
       "..      ...        ...        ...     ...    ...          ...  ...       ...   \n",
       "132       1          0          0       0      1            0  ...         1   \n",
       "133       0          0          0       1      0            0  ...         0   \n",
       "134       0          0          0       1      0            0  ...         0   \n",
       "135       1          1          0       0      0            0  ...         0   \n",
       "136       0          0          0       0      0            0  ...         1   \n",
       "\n",
       "     War  Western  Theaters  Total Gross     Budget  DomesticGross  \\\n",
       "0      0        0      3434    167445960  102000000      167365000   \n",
       "1      0        0      3434    167445960   12000000       22744718   \n",
       "2      0        0      4125     17500000  165000000       40100000   \n",
       "3      0        0      4125     17500000   45000000       27447471   \n",
       "4      0        0      4103    327481748   35000000      328828874   \n",
       "..   ...      ...       ...          ...        ...            ...   \n",
       "132    0        0      3074     65452312  110000000       65452312   \n",
       "133    0        0      3057     59484742  100000000       59475623   \n",
       "134    0        0      3167     52698535   18000000       52698535   \n",
       "135    0        0      3434     73921000   38000000       73921000   \n",
       "136    0        0      4101    101028233  120000000      101028233   \n",
       "\n",
       "     WorldwideGross  ReleaseDate  primetime  \n",
       "0         594420283   2006-11-17          1  \n",
       "1          41744718   1967-04-28          0  \n",
       "2         161664741   2021-09-15          0  \n",
       "3          27449336   1984-12-14          1  \n",
       "4         701083042   2017-08-31          0  \n",
       "..              ...          ...        ...  \n",
       "132       152364370   2009-06-12          1  \n",
       "133        96150482   2004-06-11          1  \n",
       "134        73695194   2011-03-25          0  \n",
       "135       126422949   2017-06-02          1  \n",
       "136       427947217   2018-04-09          0  \n",
       "\n",
       "[137 rows x 28 columns]"
      ]
     },
     "execution_count": 226,
     "metadata": {},
     "output_type": "execute_result"
    }
   ],
   "source": [
    "movies['primetime']=primetime\n",
    "movies"
   ]
  },
  {
   "cell_type": "code",
   "execution_count": 227,
   "id": "7603fe82",
   "metadata": {},
   "outputs": [],
   "source": [
    "#for i in  range(0,138):\n",
    "    #if movies.Title[i] == movies.Title[i+1]:\n",
    "       # if movies.WorldwideGross[i+1] < movies.WorldwideGross[i]:\n",
    "           # a=movies.WorldwideGross[i]\n",
    "            #b=movies.WorldwideGross[i+1]\n",
    "            #print(movies.Title[i])\n",
    "            #print(b)\n",
    "            #c=movies.values[i+1]\n",
    "            #print(c)\n",
    "            #movies.drop([i+1], axis=0, inplace=True)\n",
    "        #else:\n",
    "            #print('none')\n",
    "            #del c\n",
    "            #movies.drop(movies.index[i+1],inplace=True)\n",
    "            #movies.drop(i+1, axis=0,inplace=True)\n",
    "            #movies.drop([i+1], axis=0, inplace=True)\n",
    "            "
   ]
  },
  {
   "cell_type": "code",
   "execution_count": 228,
   "id": "0aa35b2c",
   "metadata": {},
   "outputs": [],
   "source": [
    "movies_f=movies \n",
    "movies_f.to_csv('movies_f.csv')"
   ]
  },
  {
   "cell_type": "code",
   "execution_count": 229,
   "id": "e7ef3d9f",
   "metadata": {
    "scrolled": true
   },
   "outputs": [
    {
     "data": {
      "text/html": [
       "<div>\n",
       "<style scoped>\n",
       "    .dataframe tbody tr th:only-of-type {\n",
       "        vertical-align: middle;\n",
       "    }\n",
       "\n",
       "    .dataframe tbody tr th {\n",
       "        vertical-align: top;\n",
       "    }\n",
       "\n",
       "    .dataframe thead th {\n",
       "        text-align: right;\n",
       "    }\n",
       "</style>\n",
       "<table border=\"1\" class=\"dataframe\">\n",
       "  <thead>\n",
       "    <tr style=\"text-align: right;\">\n",
       "      <th></th>\n",
       "      <th>Rating</th>\n",
       "      <th>Runtime</th>\n",
       "      <th>IMDB_Score</th>\n",
       "      <th>Action</th>\n",
       "      <th>Adventure</th>\n",
       "      <th>Biography</th>\n",
       "      <th>Comedy</th>\n",
       "      <th>Crime</th>\n",
       "      <th>Documentary</th>\n",
       "      <th>Drama</th>\n",
       "      <th>...</th>\n",
       "      <th>Sport</th>\n",
       "      <th>Thriller</th>\n",
       "      <th>War</th>\n",
       "      <th>Western</th>\n",
       "      <th>Theaters</th>\n",
       "      <th>Total Gross</th>\n",
       "      <th>Budget</th>\n",
       "      <th>DomesticGross</th>\n",
       "      <th>WorldwideGross</th>\n",
       "      <th>primetime</th>\n",
       "    </tr>\n",
       "  </thead>\n",
       "  <tbody>\n",
       "    <tr>\n",
       "      <th>Rating</th>\n",
       "      <td>1.000000</td>\n",
       "      <td>0.132716</td>\n",
       "      <td>-0.012565</td>\n",
       "      <td>0.350835</td>\n",
       "      <td>-0.280429</td>\n",
       "      <td>0.137957</td>\n",
       "      <td>-0.372070</td>\n",
       "      <td>0.111351</td>\n",
       "      <td>NaN</td>\n",
       "      <td>0.110413</td>\n",
       "      <td>...</td>\n",
       "      <td>NaN</td>\n",
       "      <td>0.247670</td>\n",
       "      <td>NaN</td>\n",
       "      <td>NaN</td>\n",
       "      <td>-0.193060</td>\n",
       "      <td>-0.277753</td>\n",
       "      <td>-0.006567</td>\n",
       "      <td>-0.149160</td>\n",
       "      <td>-0.131626</td>\n",
       "      <td>-0.012069</td>\n",
       "    </tr>\n",
       "    <tr>\n",
       "      <th>Runtime</th>\n",
       "      <td>0.132716</td>\n",
       "      <td>1.000000</td>\n",
       "      <td>0.363173</td>\n",
       "      <td>0.185857</td>\n",
       "      <td>0.008638</td>\n",
       "      <td>0.089683</td>\n",
       "      <td>-0.346920</td>\n",
       "      <td>-0.011381</td>\n",
       "      <td>NaN</td>\n",
       "      <td>0.242785</td>\n",
       "      <td>...</td>\n",
       "      <td>NaN</td>\n",
       "      <td>0.013797</td>\n",
       "      <td>NaN</td>\n",
       "      <td>NaN</td>\n",
       "      <td>0.118982</td>\n",
       "      <td>0.288743</td>\n",
       "      <td>0.176353</td>\n",
       "      <td>0.387174</td>\n",
       "      <td>0.416303</td>\n",
       "      <td>0.165946</td>\n",
       "    </tr>\n",
       "    <tr>\n",
       "      <th>IMDB_Score</th>\n",
       "      <td>-0.012565</td>\n",
       "      <td>0.363173</td>\n",
       "      <td>1.000000</td>\n",
       "      <td>0.154478</td>\n",
       "      <td>0.153326</td>\n",
       "      <td>0.040721</td>\n",
       "      <td>-0.031838</td>\n",
       "      <td>-0.015845</td>\n",
       "      <td>NaN</td>\n",
       "      <td>0.042047</td>\n",
       "      <td>...</td>\n",
       "      <td>NaN</td>\n",
       "      <td>0.002734</td>\n",
       "      <td>NaN</td>\n",
       "      <td>NaN</td>\n",
       "      <td>-0.046921</td>\n",
       "      <td>0.296121</td>\n",
       "      <td>0.161917</td>\n",
       "      <td>0.279579</td>\n",
       "      <td>0.285518</td>\n",
       "      <td>0.152645</td>\n",
       "    </tr>\n",
       "    <tr>\n",
       "      <th>Action</th>\n",
       "      <td>0.350835</td>\n",
       "      <td>0.185857</td>\n",
       "      <td>0.154478</td>\n",
       "      <td>1.000000</td>\n",
       "      <td>0.397552</td>\n",
       "      <td>-0.035839</td>\n",
       "      <td>-0.315659</td>\n",
       "      <td>-0.101341</td>\n",
       "      <td>NaN</td>\n",
       "      <td>-0.329594</td>\n",
       "      <td>...</td>\n",
       "      <td>NaN</td>\n",
       "      <td>-0.008073</td>\n",
       "      <td>NaN</td>\n",
       "      <td>NaN</td>\n",
       "      <td>0.173296</td>\n",
       "      <td>0.066323</td>\n",
       "      <td>0.351855</td>\n",
       "      <td>0.183346</td>\n",
       "      <td>0.200522</td>\n",
       "      <td>0.295002</td>\n",
       "    </tr>\n",
       "    <tr>\n",
       "      <th>Adventure</th>\n",
       "      <td>-0.280429</td>\n",
       "      <td>0.008638</td>\n",
       "      <td>0.153326</td>\n",
       "      <td>0.397552</td>\n",
       "      <td>1.000000</td>\n",
       "      <td>-0.162164</td>\n",
       "      <td>0.094659</td>\n",
       "      <td>-0.269896</td>\n",
       "      <td>NaN</td>\n",
       "      <td>-0.396841</td>\n",
       "      <td>...</td>\n",
       "      <td>NaN</td>\n",
       "      <td>-0.426494</td>\n",
       "      <td>NaN</td>\n",
       "      <td>NaN</td>\n",
       "      <td>0.432397</td>\n",
       "      <td>0.388478</td>\n",
       "      <td>0.415195</td>\n",
       "      <td>0.286586</td>\n",
       "      <td>0.320151</td>\n",
       "      <td>0.218127</td>\n",
       "    </tr>\n",
       "    <tr>\n",
       "      <th>Biography</th>\n",
       "      <td>0.137957</td>\n",
       "      <td>0.089683</td>\n",
       "      <td>0.040721</td>\n",
       "      <td>-0.035839</td>\n",
       "      <td>-0.162164</td>\n",
       "      <td>1.000000</td>\n",
       "      <td>-0.070692</td>\n",
       "      <td>-0.037261</td>\n",
       "      <td>NaN</td>\n",
       "      <td>0.203743</td>\n",
       "      <td>...</td>\n",
       "      <td>NaN</td>\n",
       "      <td>-0.074130</td>\n",
       "      <td>NaN</td>\n",
       "      <td>NaN</td>\n",
       "      <td>-0.139263</td>\n",
       "      <td>-0.072940</td>\n",
       "      <td>-0.064291</td>\n",
       "      <td>-0.047701</td>\n",
       "      <td>-0.067521</td>\n",
       "      <td>-0.040133</td>\n",
       "    </tr>\n",
       "    <tr>\n",
       "      <th>Comedy</th>\n",
       "      <td>-0.372070</td>\n",
       "      <td>-0.346920</td>\n",
       "      <td>-0.031838</td>\n",
       "      <td>-0.315659</td>\n",
       "      <td>0.094659</td>\n",
       "      <td>-0.070692</td>\n",
       "      <td>1.000000</td>\n",
       "      <td>-0.037061</td>\n",
       "      <td>NaN</td>\n",
       "      <td>-0.148906</td>\n",
       "      <td>...</td>\n",
       "      <td>NaN</td>\n",
       "      <td>-0.234070</td>\n",
       "      <td>NaN</td>\n",
       "      <td>NaN</td>\n",
       "      <td>0.010711</td>\n",
       "      <td>0.135880</td>\n",
       "      <td>-0.067512</td>\n",
       "      <td>0.031103</td>\n",
       "      <td>-0.030956</td>\n",
       "      <td>-0.063591</td>\n",
       "    </tr>\n",
       "    <tr>\n",
       "      <th>Crime</th>\n",
       "      <td>0.111351</td>\n",
       "      <td>-0.011381</td>\n",
       "      <td>-0.015845</td>\n",
       "      <td>-0.101341</td>\n",
       "      <td>-0.269896</td>\n",
       "      <td>-0.037261</td>\n",
       "      <td>-0.037061</td>\n",
       "      <td>1.000000</td>\n",
       "      <td>NaN</td>\n",
       "      <td>0.078107</td>\n",
       "      <td>...</td>\n",
       "      <td>NaN</td>\n",
       "      <td>0.267889</td>\n",
       "      <td>NaN</td>\n",
       "      <td>NaN</td>\n",
       "      <td>-0.230894</td>\n",
       "      <td>-0.168653</td>\n",
       "      <td>-0.037857</td>\n",
       "      <td>-0.127197</td>\n",
       "      <td>-0.130117</td>\n",
       "      <td>-0.045997</td>\n",
       "    </tr>\n",
       "    <tr>\n",
       "      <th>Documentary</th>\n",
       "      <td>NaN</td>\n",
       "      <td>NaN</td>\n",
       "      <td>NaN</td>\n",
       "      <td>NaN</td>\n",
       "      <td>NaN</td>\n",
       "      <td>NaN</td>\n",
       "      <td>NaN</td>\n",
       "      <td>NaN</td>\n",
       "      <td>NaN</td>\n",
       "      <td>NaN</td>\n",
       "      <td>...</td>\n",
       "      <td>NaN</td>\n",
       "      <td>NaN</td>\n",
       "      <td>NaN</td>\n",
       "      <td>NaN</td>\n",
       "      <td>NaN</td>\n",
       "      <td>NaN</td>\n",
       "      <td>NaN</td>\n",
       "      <td>NaN</td>\n",
       "      <td>NaN</td>\n",
       "      <td>NaN</td>\n",
       "    </tr>\n",
       "    <tr>\n",
       "      <th>Drama</th>\n",
       "      <td>0.110413</td>\n",
       "      <td>0.242785</td>\n",
       "      <td>0.042047</td>\n",
       "      <td>-0.329594</td>\n",
       "      <td>-0.396841</td>\n",
       "      <td>0.203743</td>\n",
       "      <td>-0.148906</td>\n",
       "      <td>0.078107</td>\n",
       "      <td>NaN</td>\n",
       "      <td>1.000000</td>\n",
       "      <td>...</td>\n",
       "      <td>NaN</td>\n",
       "      <td>-0.017687</td>\n",
       "      <td>NaN</td>\n",
       "      <td>NaN</td>\n",
       "      <td>-0.201265</td>\n",
       "      <td>-0.037612</td>\n",
       "      <td>-0.239449</td>\n",
       "      <td>-0.006287</td>\n",
       "      <td>-0.041656</td>\n",
       "      <td>-0.074314</td>\n",
       "    </tr>\n",
       "    <tr>\n",
       "      <th>Family</th>\n",
       "      <td>-0.540821</td>\n",
       "      <td>-0.059721</td>\n",
       "      <td>-0.126630</td>\n",
       "      <td>-0.237905</td>\n",
       "      <td>0.164223</td>\n",
       "      <td>-0.065444</td>\n",
       "      <td>0.153668</td>\n",
       "      <td>-0.108921</td>\n",
       "      <td>NaN</td>\n",
       "      <td>-0.196193</td>\n",
       "      <td>...</td>\n",
       "      <td>NaN</td>\n",
       "      <td>-0.216695</td>\n",
       "      <td>NaN</td>\n",
       "      <td>NaN</td>\n",
       "      <td>0.037496</td>\n",
       "      <td>0.072075</td>\n",
       "      <td>0.044308</td>\n",
       "      <td>0.019101</td>\n",
       "      <td>0.025583</td>\n",
       "      <td>0.028795</td>\n",
       "    </tr>\n",
       "    <tr>\n",
       "      <th>History</th>\n",
       "      <td>-0.002378</td>\n",
       "      <td>0.194565</td>\n",
       "      <td>0.060192</td>\n",
       "      <td>-0.077964</td>\n",
       "      <td>-0.092934</td>\n",
       "      <td>-0.012830</td>\n",
       "      <td>-0.040513</td>\n",
       "      <td>-0.021354</td>\n",
       "      <td>NaN</td>\n",
       "      <td>0.116763</td>\n",
       "      <td>...</td>\n",
       "      <td>NaN</td>\n",
       "      <td>-0.042483</td>\n",
       "      <td>NaN</td>\n",
       "      <td>NaN</td>\n",
       "      <td>-0.005327</td>\n",
       "      <td>-0.011671</td>\n",
       "      <td>0.124718</td>\n",
       "      <td>0.002959</td>\n",
       "      <td>0.051195</td>\n",
       "      <td>0.091580</td>\n",
       "    </tr>\n",
       "    <tr>\n",
       "      <th>Horror</th>\n",
       "      <td>0.085641</td>\n",
       "      <td>-0.109623</td>\n",
       "      <td>-0.270495</td>\n",
       "      <td>-0.244353</td>\n",
       "      <td>-0.350919</td>\n",
       "      <td>-0.048447</td>\n",
       "      <td>-0.024005</td>\n",
       "      <td>-0.080633</td>\n",
       "      <td>NaN</td>\n",
       "      <td>-0.028961</td>\n",
       "      <td>...</td>\n",
       "      <td>NaN</td>\n",
       "      <td>0.027421</td>\n",
       "      <td>NaN</td>\n",
       "      <td>NaN</td>\n",
       "      <td>-0.056281</td>\n",
       "      <td>-0.193813</td>\n",
       "      <td>-0.175778</td>\n",
       "      <td>-0.142275</td>\n",
       "      <td>-0.166950</td>\n",
       "      <td>-0.153408</td>\n",
       "    </tr>\n",
       "    <tr>\n",
       "      <th>Music</th>\n",
       "      <td>0.112224</td>\n",
       "      <td>-0.034814</td>\n",
       "      <td>-0.064962</td>\n",
       "      <td>-0.110666</td>\n",
       "      <td>-0.131915</td>\n",
       "      <td>-0.018212</td>\n",
       "      <td>0.100060</td>\n",
       "      <td>0.229226</td>\n",
       "      <td>NaN</td>\n",
       "      <td>0.038176</td>\n",
       "      <td>...</td>\n",
       "      <td>NaN</td>\n",
       "      <td>-0.060302</td>\n",
       "      <td>NaN</td>\n",
       "      <td>NaN</td>\n",
       "      <td>-0.096314</td>\n",
       "      <td>-0.112673</td>\n",
       "      <td>-0.081267</td>\n",
       "      <td>-0.092673</td>\n",
       "      <td>-0.104969</td>\n",
       "      <td>-0.113966</td>\n",
       "    </tr>\n",
       "    <tr>\n",
       "      <th>Mystery</th>\n",
       "      <td>0.308070</td>\n",
       "      <td>0.146053</td>\n",
       "      <td>0.081508</td>\n",
       "      <td>-0.004455</td>\n",
       "      <td>-0.418196</td>\n",
       "      <td>-0.077535</td>\n",
       "      <td>-0.244821</td>\n",
       "      <td>0.099564</td>\n",
       "      <td>NaN</td>\n",
       "      <td>-0.006014</td>\n",
       "      <td>...</td>\n",
       "      <td>NaN</td>\n",
       "      <td>0.327221</td>\n",
       "      <td>NaN</td>\n",
       "      <td>NaN</td>\n",
       "      <td>-0.100375</td>\n",
       "      <td>-0.085683</td>\n",
       "      <td>-0.077640</td>\n",
       "      <td>-0.008696</td>\n",
       "      <td>-0.052578</td>\n",
       "      <td>-0.091235</td>\n",
       "    </tr>\n",
       "    <tr>\n",
       "      <th>Romance</th>\n",
       "      <td>0.028989</td>\n",
       "      <td>-0.050127</td>\n",
       "      <td>-0.247070</td>\n",
       "      <td>-0.364839</td>\n",
       "      <td>-0.350141</td>\n",
       "      <td>0.084267</td>\n",
       "      <td>-0.025544</td>\n",
       "      <td>-0.099928</td>\n",
       "      <td>NaN</td>\n",
       "      <td>0.325061</td>\n",
       "      <td>...</td>\n",
       "      <td>NaN</td>\n",
       "      <td>-0.039528</td>\n",
       "      <td>NaN</td>\n",
       "      <td>NaN</td>\n",
       "      <td>-0.146760</td>\n",
       "      <td>-0.069014</td>\n",
       "      <td>-0.296400</td>\n",
       "      <td>-0.129515</td>\n",
       "      <td>-0.133987</td>\n",
       "      <td>-0.206399</td>\n",
       "    </tr>\n",
       "    <tr>\n",
       "      <th>Sport</th>\n",
       "      <td>NaN</td>\n",
       "      <td>NaN</td>\n",
       "      <td>NaN</td>\n",
       "      <td>NaN</td>\n",
       "      <td>NaN</td>\n",
       "      <td>NaN</td>\n",
       "      <td>NaN</td>\n",
       "      <td>NaN</td>\n",
       "      <td>NaN</td>\n",
       "      <td>NaN</td>\n",
       "      <td>...</td>\n",
       "      <td>NaN</td>\n",
       "      <td>NaN</td>\n",
       "      <td>NaN</td>\n",
       "      <td>NaN</td>\n",
       "      <td>NaN</td>\n",
       "      <td>NaN</td>\n",
       "      <td>NaN</td>\n",
       "      <td>NaN</td>\n",
       "      <td>NaN</td>\n",
       "      <td>NaN</td>\n",
       "    </tr>\n",
       "    <tr>\n",
       "      <th>Thriller</th>\n",
       "      <td>0.247670</td>\n",
       "      <td>0.013797</td>\n",
       "      <td>0.002734</td>\n",
       "      <td>-0.008073</td>\n",
       "      <td>-0.426494</td>\n",
       "      <td>-0.074130</td>\n",
       "      <td>-0.234070</td>\n",
       "      <td>0.267889</td>\n",
       "      <td>NaN</td>\n",
       "      <td>-0.017687</td>\n",
       "      <td>...</td>\n",
       "      <td>NaN</td>\n",
       "      <td>1.000000</td>\n",
       "      <td>NaN</td>\n",
       "      <td>NaN</td>\n",
       "      <td>-0.232759</td>\n",
       "      <td>-0.221523</td>\n",
       "      <td>-0.107632</td>\n",
       "      <td>-0.175525</td>\n",
       "      <td>-0.150556</td>\n",
       "      <td>-0.059328</td>\n",
       "    </tr>\n",
       "    <tr>\n",
       "      <th>War</th>\n",
       "      <td>NaN</td>\n",
       "      <td>NaN</td>\n",
       "      <td>NaN</td>\n",
       "      <td>NaN</td>\n",
       "      <td>NaN</td>\n",
       "      <td>NaN</td>\n",
       "      <td>NaN</td>\n",
       "      <td>NaN</td>\n",
       "      <td>NaN</td>\n",
       "      <td>NaN</td>\n",
       "      <td>...</td>\n",
       "      <td>NaN</td>\n",
       "      <td>NaN</td>\n",
       "      <td>NaN</td>\n",
       "      <td>NaN</td>\n",
       "      <td>NaN</td>\n",
       "      <td>NaN</td>\n",
       "      <td>NaN</td>\n",
       "      <td>NaN</td>\n",
       "      <td>NaN</td>\n",
       "      <td>NaN</td>\n",
       "    </tr>\n",
       "    <tr>\n",
       "      <th>Western</th>\n",
       "      <td>NaN</td>\n",
       "      <td>NaN</td>\n",
       "      <td>NaN</td>\n",
       "      <td>NaN</td>\n",
       "      <td>NaN</td>\n",
       "      <td>NaN</td>\n",
       "      <td>NaN</td>\n",
       "      <td>NaN</td>\n",
       "      <td>NaN</td>\n",
       "      <td>NaN</td>\n",
       "      <td>...</td>\n",
       "      <td>NaN</td>\n",
       "      <td>NaN</td>\n",
       "      <td>NaN</td>\n",
       "      <td>NaN</td>\n",
       "      <td>NaN</td>\n",
       "      <td>NaN</td>\n",
       "      <td>NaN</td>\n",
       "      <td>NaN</td>\n",
       "      <td>NaN</td>\n",
       "      <td>NaN</td>\n",
       "    </tr>\n",
       "    <tr>\n",
       "      <th>Theaters</th>\n",
       "      <td>-0.193060</td>\n",
       "      <td>0.118982</td>\n",
       "      <td>-0.046921</td>\n",
       "      <td>0.173296</td>\n",
       "      <td>0.432397</td>\n",
       "      <td>-0.139263</td>\n",
       "      <td>0.010711</td>\n",
       "      <td>-0.230894</td>\n",
       "      <td>NaN</td>\n",
       "      <td>-0.201265</td>\n",
       "      <td>...</td>\n",
       "      <td>NaN</td>\n",
       "      <td>-0.232759</td>\n",
       "      <td>NaN</td>\n",
       "      <td>NaN</td>\n",
       "      <td>1.000000</td>\n",
       "      <td>0.538252</td>\n",
       "      <td>0.436206</td>\n",
       "      <td>0.425215</td>\n",
       "      <td>0.475389</td>\n",
       "      <td>0.046930</td>\n",
       "    </tr>\n",
       "    <tr>\n",
       "      <th>Total Gross</th>\n",
       "      <td>-0.277753</td>\n",
       "      <td>0.288743</td>\n",
       "      <td>0.296121</td>\n",
       "      <td>0.066323</td>\n",
       "      <td>0.388478</td>\n",
       "      <td>-0.072940</td>\n",
       "      <td>0.135880</td>\n",
       "      <td>-0.168653</td>\n",
       "      <td>NaN</td>\n",
       "      <td>-0.037612</td>\n",
       "      <td>...</td>\n",
       "      <td>NaN</td>\n",
       "      <td>-0.221523</td>\n",
       "      <td>NaN</td>\n",
       "      <td>NaN</td>\n",
       "      <td>0.538252</td>\n",
       "      <td>1.000000</td>\n",
       "      <td>0.289276</td>\n",
       "      <td>0.801318</td>\n",
       "      <td>0.734062</td>\n",
       "      <td>0.328258</td>\n",
       "    </tr>\n",
       "    <tr>\n",
       "      <th>Budget</th>\n",
       "      <td>-0.006567</td>\n",
       "      <td>0.176353</td>\n",
       "      <td>0.161917</td>\n",
       "      <td>0.351855</td>\n",
       "      <td>0.415195</td>\n",
       "      <td>-0.064291</td>\n",
       "      <td>-0.067512</td>\n",
       "      <td>-0.037857</td>\n",
       "      <td>NaN</td>\n",
       "      <td>-0.239449</td>\n",
       "      <td>...</td>\n",
       "      <td>NaN</td>\n",
       "      <td>-0.107632</td>\n",
       "      <td>NaN</td>\n",
       "      <td>NaN</td>\n",
       "      <td>0.436206</td>\n",
       "      <td>0.289276</td>\n",
       "      <td>1.000000</td>\n",
       "      <td>0.510345</td>\n",
       "      <td>0.603143</td>\n",
       "      <td>0.257644</td>\n",
       "    </tr>\n",
       "    <tr>\n",
       "      <th>DomesticGross</th>\n",
       "      <td>-0.149160</td>\n",
       "      <td>0.387174</td>\n",
       "      <td>0.279579</td>\n",
       "      <td>0.183346</td>\n",
       "      <td>0.286586</td>\n",
       "      <td>-0.047701</td>\n",
       "      <td>0.031103</td>\n",
       "      <td>-0.127197</td>\n",
       "      <td>NaN</td>\n",
       "      <td>-0.006287</td>\n",
       "      <td>...</td>\n",
       "      <td>NaN</td>\n",
       "      <td>-0.175525</td>\n",
       "      <td>NaN</td>\n",
       "      <td>NaN</td>\n",
       "      <td>0.425215</td>\n",
       "      <td>0.801318</td>\n",
       "      <td>0.510345</td>\n",
       "      <td>1.000000</td>\n",
       "      <td>0.938398</td>\n",
       "      <td>0.276095</td>\n",
       "    </tr>\n",
       "    <tr>\n",
       "      <th>WorldwideGross</th>\n",
       "      <td>-0.131626</td>\n",
       "      <td>0.416303</td>\n",
       "      <td>0.285518</td>\n",
       "      <td>0.200522</td>\n",
       "      <td>0.320151</td>\n",
       "      <td>-0.067521</td>\n",
       "      <td>-0.030956</td>\n",
       "      <td>-0.130117</td>\n",
       "      <td>NaN</td>\n",
       "      <td>-0.041656</td>\n",
       "      <td>...</td>\n",
       "      <td>NaN</td>\n",
       "      <td>-0.150556</td>\n",
       "      <td>NaN</td>\n",
       "      <td>NaN</td>\n",
       "      <td>0.475389</td>\n",
       "      <td>0.734062</td>\n",
       "      <td>0.603143</td>\n",
       "      <td>0.938398</td>\n",
       "      <td>1.000000</td>\n",
       "      <td>0.302314</td>\n",
       "    </tr>\n",
       "    <tr>\n",
       "      <th>primetime</th>\n",
       "      <td>-0.012069</td>\n",
       "      <td>0.165946</td>\n",
       "      <td>0.152645</td>\n",
       "      <td>0.295002</td>\n",
       "      <td>0.218127</td>\n",
       "      <td>-0.040133</td>\n",
       "      <td>-0.063591</td>\n",
       "      <td>-0.045997</td>\n",
       "      <td>NaN</td>\n",
       "      <td>-0.074314</td>\n",
       "      <td>...</td>\n",
       "      <td>NaN</td>\n",
       "      <td>-0.059328</td>\n",
       "      <td>NaN</td>\n",
       "      <td>NaN</td>\n",
       "      <td>0.046930</td>\n",
       "      <td>0.328258</td>\n",
       "      <td>0.257644</td>\n",
       "      <td>0.276095</td>\n",
       "      <td>0.302314</td>\n",
       "      <td>1.000000</td>\n",
       "    </tr>\n",
       "  </tbody>\n",
       "</table>\n",
       "<p>26 rows × 26 columns</p>\n",
       "</div>"
      ],
      "text/plain": [
       "                  Rating   Runtime  IMDB_Score    Action  Adventure  \\\n",
       "Rating          1.000000  0.132716   -0.012565  0.350835  -0.280429   \n",
       "Runtime         0.132716  1.000000    0.363173  0.185857   0.008638   \n",
       "IMDB_Score     -0.012565  0.363173    1.000000  0.154478   0.153326   \n",
       "Action          0.350835  0.185857    0.154478  1.000000   0.397552   \n",
       "Adventure      -0.280429  0.008638    0.153326  0.397552   1.000000   \n",
       "Biography       0.137957  0.089683    0.040721 -0.035839  -0.162164   \n",
       "Comedy         -0.372070 -0.346920   -0.031838 -0.315659   0.094659   \n",
       "Crime           0.111351 -0.011381   -0.015845 -0.101341  -0.269896   \n",
       "Documentary          NaN       NaN         NaN       NaN        NaN   \n",
       "Drama           0.110413  0.242785    0.042047 -0.329594  -0.396841   \n",
       "Family         -0.540821 -0.059721   -0.126630 -0.237905   0.164223   \n",
       "History        -0.002378  0.194565    0.060192 -0.077964  -0.092934   \n",
       "Horror          0.085641 -0.109623   -0.270495 -0.244353  -0.350919   \n",
       "Music           0.112224 -0.034814   -0.064962 -0.110666  -0.131915   \n",
       "Mystery         0.308070  0.146053    0.081508 -0.004455  -0.418196   \n",
       "Romance         0.028989 -0.050127   -0.247070 -0.364839  -0.350141   \n",
       "Sport                NaN       NaN         NaN       NaN        NaN   \n",
       "Thriller        0.247670  0.013797    0.002734 -0.008073  -0.426494   \n",
       "War                  NaN       NaN         NaN       NaN        NaN   \n",
       "Western              NaN       NaN         NaN       NaN        NaN   \n",
       "Theaters       -0.193060  0.118982   -0.046921  0.173296   0.432397   \n",
       "Total Gross    -0.277753  0.288743    0.296121  0.066323   0.388478   \n",
       "Budget         -0.006567  0.176353    0.161917  0.351855   0.415195   \n",
       "DomesticGross  -0.149160  0.387174    0.279579  0.183346   0.286586   \n",
       "WorldwideGross -0.131626  0.416303    0.285518  0.200522   0.320151   \n",
       "primetime      -0.012069  0.165946    0.152645  0.295002   0.218127   \n",
       "\n",
       "                Biography    Comedy     Crime  Documentary     Drama  ...  \\\n",
       "Rating           0.137957 -0.372070  0.111351          NaN  0.110413  ...   \n",
       "Runtime          0.089683 -0.346920 -0.011381          NaN  0.242785  ...   \n",
       "IMDB_Score       0.040721 -0.031838 -0.015845          NaN  0.042047  ...   \n",
       "Action          -0.035839 -0.315659 -0.101341          NaN -0.329594  ...   \n",
       "Adventure       -0.162164  0.094659 -0.269896          NaN -0.396841  ...   \n",
       "Biography        1.000000 -0.070692 -0.037261          NaN  0.203743  ...   \n",
       "Comedy          -0.070692  1.000000 -0.037061          NaN -0.148906  ...   \n",
       "Crime           -0.037261 -0.037061  1.000000          NaN  0.078107  ...   \n",
       "Documentary           NaN       NaN       NaN          NaN       NaN  ...   \n",
       "Drama            0.203743 -0.148906  0.078107          NaN  1.000000  ...   \n",
       "Family          -0.065444  0.153668 -0.108921          NaN -0.196193  ...   \n",
       "History         -0.012830 -0.040513 -0.021354          NaN  0.116763  ...   \n",
       "Horror          -0.048447 -0.024005 -0.080633          NaN -0.028961  ...   \n",
       "Music           -0.018212  0.100060  0.229226          NaN  0.038176  ...   \n",
       "Mystery         -0.077535 -0.244821  0.099564          NaN -0.006014  ...   \n",
       "Romance          0.084267 -0.025544 -0.099928          NaN  0.325061  ...   \n",
       "Sport                 NaN       NaN       NaN          NaN       NaN  ...   \n",
       "Thriller        -0.074130 -0.234070  0.267889          NaN -0.017687  ...   \n",
       "War                   NaN       NaN       NaN          NaN       NaN  ...   \n",
       "Western               NaN       NaN       NaN          NaN       NaN  ...   \n",
       "Theaters        -0.139263  0.010711 -0.230894          NaN -0.201265  ...   \n",
       "Total Gross     -0.072940  0.135880 -0.168653          NaN -0.037612  ...   \n",
       "Budget          -0.064291 -0.067512 -0.037857          NaN -0.239449  ...   \n",
       "DomesticGross   -0.047701  0.031103 -0.127197          NaN -0.006287  ...   \n",
       "WorldwideGross  -0.067521 -0.030956 -0.130117          NaN -0.041656  ...   \n",
       "primetime       -0.040133 -0.063591 -0.045997          NaN -0.074314  ...   \n",
       "\n",
       "                Sport  Thriller  War  Western  Theaters  Total Gross  \\\n",
       "Rating            NaN  0.247670  NaN      NaN -0.193060    -0.277753   \n",
       "Runtime           NaN  0.013797  NaN      NaN  0.118982     0.288743   \n",
       "IMDB_Score        NaN  0.002734  NaN      NaN -0.046921     0.296121   \n",
       "Action            NaN -0.008073  NaN      NaN  0.173296     0.066323   \n",
       "Adventure         NaN -0.426494  NaN      NaN  0.432397     0.388478   \n",
       "Biography         NaN -0.074130  NaN      NaN -0.139263    -0.072940   \n",
       "Comedy            NaN -0.234070  NaN      NaN  0.010711     0.135880   \n",
       "Crime             NaN  0.267889  NaN      NaN -0.230894    -0.168653   \n",
       "Documentary       NaN       NaN  NaN      NaN       NaN          NaN   \n",
       "Drama             NaN -0.017687  NaN      NaN -0.201265    -0.037612   \n",
       "Family            NaN -0.216695  NaN      NaN  0.037496     0.072075   \n",
       "History           NaN -0.042483  NaN      NaN -0.005327    -0.011671   \n",
       "Horror            NaN  0.027421  NaN      NaN -0.056281    -0.193813   \n",
       "Music             NaN -0.060302  NaN      NaN -0.096314    -0.112673   \n",
       "Mystery           NaN  0.327221  NaN      NaN -0.100375    -0.085683   \n",
       "Romance           NaN -0.039528  NaN      NaN -0.146760    -0.069014   \n",
       "Sport             NaN       NaN  NaN      NaN       NaN          NaN   \n",
       "Thriller          NaN  1.000000  NaN      NaN -0.232759    -0.221523   \n",
       "War               NaN       NaN  NaN      NaN       NaN          NaN   \n",
       "Western           NaN       NaN  NaN      NaN       NaN          NaN   \n",
       "Theaters          NaN -0.232759  NaN      NaN  1.000000     0.538252   \n",
       "Total Gross       NaN -0.221523  NaN      NaN  0.538252     1.000000   \n",
       "Budget            NaN -0.107632  NaN      NaN  0.436206     0.289276   \n",
       "DomesticGross     NaN -0.175525  NaN      NaN  0.425215     0.801318   \n",
       "WorldwideGross    NaN -0.150556  NaN      NaN  0.475389     0.734062   \n",
       "primetime         NaN -0.059328  NaN      NaN  0.046930     0.328258   \n",
       "\n",
       "                  Budget  DomesticGross  WorldwideGross  primetime  \n",
       "Rating         -0.006567      -0.149160       -0.131626  -0.012069  \n",
       "Runtime         0.176353       0.387174        0.416303   0.165946  \n",
       "IMDB_Score      0.161917       0.279579        0.285518   0.152645  \n",
       "Action          0.351855       0.183346        0.200522   0.295002  \n",
       "Adventure       0.415195       0.286586        0.320151   0.218127  \n",
       "Biography      -0.064291      -0.047701       -0.067521  -0.040133  \n",
       "Comedy         -0.067512       0.031103       -0.030956  -0.063591  \n",
       "Crime          -0.037857      -0.127197       -0.130117  -0.045997  \n",
       "Documentary          NaN            NaN             NaN        NaN  \n",
       "Drama          -0.239449      -0.006287       -0.041656  -0.074314  \n",
       "Family          0.044308       0.019101        0.025583   0.028795  \n",
       "History         0.124718       0.002959        0.051195   0.091580  \n",
       "Horror         -0.175778      -0.142275       -0.166950  -0.153408  \n",
       "Music          -0.081267      -0.092673       -0.104969  -0.113966  \n",
       "Mystery        -0.077640      -0.008696       -0.052578  -0.091235  \n",
       "Romance        -0.296400      -0.129515       -0.133987  -0.206399  \n",
       "Sport                NaN            NaN             NaN        NaN  \n",
       "Thriller       -0.107632      -0.175525       -0.150556  -0.059328  \n",
       "War                  NaN            NaN             NaN        NaN  \n",
       "Western              NaN            NaN             NaN        NaN  \n",
       "Theaters        0.436206       0.425215        0.475389   0.046930  \n",
       "Total Gross     0.289276       0.801318        0.734062   0.328258  \n",
       "Budget          1.000000       0.510345        0.603143   0.257644  \n",
       "DomesticGross   0.510345       1.000000        0.938398   0.276095  \n",
       "WorldwideGross  0.603143       0.938398        1.000000   0.302314  \n",
       "primetime       0.257644       0.276095        0.302314   1.000000  \n",
       "\n",
       "[26 rows x 26 columns]"
      ]
     },
     "execution_count": 229,
     "metadata": {},
     "output_type": "execute_result"
    }
   ],
   "source": [
    "#Visualizing with Seaborn\n",
    "\n",
    "# View the correlations\n",
    "movies_f.corr()"
   ]
  },
  {
   "cell_type": "markdown",
   "id": "cca4cca9",
   "metadata": {
    "scrolled": true
   },
   "source": [
    "# Modeling\n"
   ]
  },
  {
   "cell_type": "code",
   "execution_count": 230,
   "id": "1038e370",
   "metadata": {},
   "outputs": [],
   "source": [
    "#sns.pairplot(movies, height=1.2, aspect=1.5);"
   ]
  },
  {
   "cell_type": "code",
   "execution_count": 231,
   "id": "33e09ea1",
   "metadata": {},
   "outputs": [],
   "source": [
    "hm_df=movies_f[[\"Runtime\",'Drama',\"Theaters\",\"Budget\",\"DomesticGross\",'WorldwideGross']]"
   ]
  },
  {
   "cell_type": "code",
   "execution_count": 232,
   "id": "77e9ed03",
   "metadata": {},
   "outputs": [],
   "source": [
    "f_e=movies_f[['primetime',\"Theaters\",\"Budget\",\"DomesticGross\",'WorldwideGross']]"
   ]
  },
  {
   "cell_type": "code",
   "execution_count": 233,
   "id": "19503805",
   "metadata": {},
   "outputs": [
    {
     "data": {
      "image/png": "[encoded data removed]",
      "text/plain": [
       "<Figure size 1080x720 with 2 Axes>"
      ]
     },
     "metadata": {
      "needs_background": "light"
     },
     "output_type": "display_data"
    }
   ],
   "source": [
    "plt.figure(figsize=(15,10))\n",
    "heatmap = sns.heatmap(hm_df.corr(), vmin=-1, vmax=1, annot=True, cmap=\"copper\")\n",
    "heatmap.set_title('Correlation Heatmap', fontdict={'fontsize':18}, pad=12);\n",
    "plt.show()\n",
    "\n",
    "\n"
   ]
  },
  {
   "cell_type": "code",
   "execution_count": 234,
   "id": "b3f4dafb",
   "metadata": {},
   "outputs": [
    {
     "data": {
      "image/png": "[encoded data removed]",
      "text/plain": [
       "<Figure size 720x720 with 2 Axes>"
      ]
     },
     "metadata": {
      "needs_background": "light"
     },
     "output_type": "display_data"
    }
   ],
   "source": [
    "plt.figure(figsize=(10,10))\n",
    "heatmap = sns.heatmap(f_e.corr(), vmin=-1, vmax=1, annot=True, cmap=\"copper\")\n",
    "heatmap.set_title('Correlation Heatmap', fontdict={'fontsize':18}, pad=12);\n",
    "plt.show()"
   ]
  },
  {
   "cell_type": "code",
   "execution_count": 235,
   "id": "ed3d401a",
   "metadata": {},
   "outputs": [
    {
     "data": {
      "text/plain": [
       "<seaborn.axisgrid.PairGrid at 0x7fb3cbc489a0>"
      ]
     },
     "execution_count": 235,
     "metadata": {},
     "output_type": "execute_result"
    },
    {
     "data": {
      "image/png": "[encoded data removed]",
      "text/plain": [
       "<Figure size 720x180 with 4 Axes>"
      ]
     },
     "metadata": {
      "needs_background": "light"
     },
     "output_type": "display_data"
    }
   ],
   "source": [
    "sns.pairplot(\n",
    "    movies_f,\n",
    "    x_vars=[\"Runtime\",\"Theaters\",\"Budget\",\"DomesticGross\"],\n",
    "    y_vars=[\"WorldwideGross\"],\n",
    ")\n"
   ]
  },
  {
   "cell_type": "code",
   "execution_count": 236,
   "id": "19dd93d7",
   "metadata": {},
   "outputs": [],
   "source": [
    "#1\n",
    "#x=Rating','Runtime','IMDB_Score','Budget','Theaters''primetime'\n",
    "from sklearn.model_selection import train_test_split\n",
    "from sklearn.linear_model import LinearRegression, Ridge #ordinary linear regression + w/ ridge regularization+\n",
    "from sklearn.preprocessing import StandardScaler, PolynomialFeatures\n",
    "from sklearn.model_selection import KFold\n",
    "#first\n",
    "X, y = movies_f[['Rating','Runtime','IMDB_Score','Budget','Theaters','primetime']], movies['WorldwideGross']\n",
    "\n",
    "#hold out 20% of the data for final testing\n",
    "X, X_test, y, y_test = train_test_split(X, y, test_size=.2, random_state=10) \n",
    "\n",
    "#this helps with the way kf will generate indices below\n",
    "X, y = np.array(X), np.array(y)"
   ]
  },
  {
   "cell_type": "code",
   "execution_count": 237,
   "id": "905beb13",
   "metadata": {},
   "outputs": [
    {
     "name": "stdout",
     "output_type": "stream",
     "text": [
      "Simple regression scores:  [0.7633481643133225, 0.4585086359441505, 0.49782301692982656, 0.33094440960759963, 0.536959738755981]\n",
      "Ridge scores:  [0.7633204659841664, 0.4621158071583429, 0.49974209531268654, 0.3318616373992822, 0.5366971440738374] \n",
      "\n",
      "lasso scores:  [-20.00935496948088, -30.102577608112707, -28.124212487553567, -20.69459060562868, -21.50856577510955] \n",
      "\n",
      "Simple mean cv r^2: 0.518 +- 0.141\n",
      "Ridge mean cv r^2: 0.519 +- 0.140\n",
      "lasso mean cv r^2: -24.088 +- 4.178\n"
     ]
    }
   ],
   "source": [
    "#run the CV\n",
    "\n",
    "kf = KFold(n_splits=5, shuffle=True, random_state = 70)\n",
    "cv_lm_r2s, cv_lm_reg_r2s ,cv_lm_las_r2s= [], [] ,[]#collect the validation results for both models\n",
    "\n",
    "for train_ind, val_ind in kf.split(X,y):\n",
    "    \n",
    "    X_train, y_train = X[train_ind], y[train_ind]\n",
    "    X_val, y_val = X[val_ind], y[val_ind] \n",
    "    \n",
    "    #simple linear regression\n",
    "    lm = LinearRegression()\n",
    "    lm_reg = Ridge(alpha=1)\n",
    "\n",
    "    lm.fit(X_train, y_train)\n",
    "    cv_lm_r2s.append(lm.score(X_val, y_val))\n",
    "    \n",
    "    #ridge with feature scaling\n",
    "    scaler = StandardScaler()\n",
    "    X_train_scaled = scaler.fit_transform(X_train)\n",
    "    X_val_scaled = scaler.transform(X_val)\n",
    "    \n",
    "    lm_reg.fit(X_train_scaled, y_train)\n",
    "    cv_lm_reg_r2s.append(lm_reg.score(X_val_scaled, y_val))\n",
    "    \n",
    "    #lasso with feature scaling\n",
    "    lr_model_lasso = Lasso(alpha = 100000)\n",
    "    lr_model_lasso.fit(X_train, y_train)\n",
    "    cv_lm_las_r2s.append(lr_model_lasso.score(X_val_scaled, y_val))\n",
    "\n",
    "print('Simple regression scores: ', cv_lm_r2s)\n",
    "print('Ridge scores: ', cv_lm_reg_r2s, '\\n')\n",
    "print('lasso scores: ', cv_lm_las_r2s, '\\n')\n",
    "\n",
    "print(f'Simple mean cv r^2: {np.mean(cv_lm_r2s):.3f} +- {np.std(cv_lm_r2s):.3f}')\n",
    "print(f'Ridge mean cv r^2: {np.mean(cv_lm_reg_r2s):.3f} +- {np.std(cv_lm_reg_r2s):.3f}')\n",
    "print(f'lasso mean cv r^2: {np.mean(cv_lm_las_r2s):.3f} +- {np.std(cv_lm_las_r2s):.3f}')"
   ]
  },
  {
   "cell_type": "code",
   "execution_count": 238,
   "id": "52a8a6de",
   "metadata": {},
   "outputs": [
    {
     "data": {
      "text/plain": [
       "0.536959738755981"
      ]
     },
     "execution_count": 238,
     "metadata": {},
     "output_type": "execute_result"
    }
   ],
   "source": [
    "lm_preds_1 =lm.predict(X_test) # generate predictions for X using simple linear regression fit model\n",
    "lm.score(X_val,y_val)"
   ]
  },
  {
   "cell_type": "code",
   "execution_count": 239,
   "id": "1cce4f68",
   "metadata": {},
   "outputs": [
    {
     "data": {
      "text/plain": [
       "0.3076512010029575"
      ]
     },
     "execution_count": 239,
     "metadata": {},
     "output_type": "execute_result"
    }
   ],
   "source": [
    "r2_score(y_test,lm_preds_1)"
   ]
  },
  {
   "cell_type": "code",
   "execution_count": 241,
   "id": "b7fe27aa",
   "metadata": {},
   "outputs": [
    {
     "name": "stdout",
     "output_type": "stream",
     "text": [
      "102339367.19261374\n",
      "80468201.38492724\n"
     ]
    }
   ],
   "source": [
    "from sklearn.metrics import mean_squared_error, mean_absolute_error\n",
    "#RMSE and MAE \n",
    "rmse = mean_squared_error(y_test, lm_preds, squared=False)\n",
    "mae = mean_absolute_error(y_test, lm_preds)\n",
    "print(rmse)\n",
    "print(mae)"
   ]
  },
  {
   "cell_type": "code",
   "execution_count": 242,
   "id": "6b2fc73f",
   "metadata": {},
   "outputs": [
    {
     "data": {
      "text/plain": [
       "-1399987214607101.5"
      ]
     },
     "execution_count": 242,
     "metadata": {},
     "output_type": "execute_result"
    }
   ],
   "source": [
    "lm_reg_preds_1 =lm_reg.predict(X_test) # generate predictions for X using ridge fit model\n",
    "lm_reg.score(X_val,y_val)"
   ]
  },
  {
   "cell_type": "code",
   "execution_count": 243,
   "id": "c042e2c1",
   "metadata": {},
   "outputs": [
    {
     "data": {
      "text/plain": [
       "-1838338934911802.8"
      ]
     },
     "execution_count": 243,
     "metadata": {},
     "output_type": "execute_result"
    }
   ],
   "source": [
    "r2_score(y_test,lm_reg_preds_1)"
   ]
  },
  {
   "cell_type": "code",
   "execution_count": 245,
   "id": "9f442f70",
   "metadata": {},
   "outputs": [
    {
     "name": "stdout",
     "output_type": "stream",
     "text": [
      "4.0892352336480136e+16\n",
      "3.4179929384007876e+16\n"
     ]
    }
   ],
   "source": [
    "from sklearn.metrics import mean_squared_error, mean_absolute_error\n",
    "#RMSE and MAE \n",
    "rmse = mean_squared_error(y_test, lm_reg_preds, squared=False)\n",
    "mae = mean_absolute_error(y_test, lm_reg_preds)\n",
    "print(rmse)\n",
    "print(mae)"
   ]
  },
  {
   "cell_type": "code",
   "execution_count": 246,
   "id": "a323d89a",
   "metadata": {},
   "outputs": [
    {
     "data": {
      "text/plain": [
       "0.5373794564754895"
      ]
     },
     "execution_count": 246,
     "metadata": {},
     "output_type": "execute_result"
    }
   ],
   "source": [
    "lr_lasso_preds_1 =lr_model_lasso.predict(X_test) # generate predictions for X using ridge fit model\n",
    "lr_model_lasso.score(X_val,y_val)"
   ]
  },
  {
   "cell_type": "code",
   "execution_count": 247,
   "id": "63786d94",
   "metadata": {},
   "outputs": [
    {
     "data": {
      "text/plain": [
       "0.3073116321469026"
      ]
     },
     "execution_count": 247,
     "metadata": {},
     "output_type": "execute_result"
    }
   ],
   "source": [
    "r2_score(y_test,lr_lasso_preds_1)"
   ]
  },
  {
   "cell_type": "code",
   "execution_count": 249,
   "id": "79dd46ca",
   "metadata": {},
   "outputs": [
    {
     "name": "stdout",
     "output_type": "stream",
     "text": [
      "102244409.31954108\n",
      "80357952.99594386\n"
     ]
    }
   ],
   "source": [
    "\n",
    "#RMSE and MAE \n",
    "rmse = mean_squared_error(y_test, lr_lasso_preds, squared=False)\n",
    "mae = mean_absolute_error(y_test, lr_lasso_preds)\n",
    "print(rmse)\n",
    "print(mae)"
   ]
  },
  {
   "cell_type": "code",
   "execution_count": 250,
   "id": "fe656fde",
   "metadata": {},
   "outputs": [],
   "source": [
    "#2\n",
    "##x=movies[['Theaters','Budget','DomesticGross','drama']]\n",
    "\n",
    "X, y = movies_f[['Budget','Drama','Theaters','DomesticGross']], movies['WorldwideGross']\n",
    "\n",
    "X, X_test, y, y_test = train_test_split(X, y, test_size=.2, random_state=10) #hold out 20% of the data for final testing\n",
    "\n",
    "#this helps with the way kf will generate indices below\n",
    "X, y = np.array(X), np.array(y)"
   ]
  },
  {
   "cell_type": "code",
   "execution_count": 251,
   "id": "8c06ecee",
   "metadata": {},
   "outputs": [
    {
     "name": "stdout",
     "output_type": "stream",
     "text": [
      "Simple regression scores:  [0.9024530438763168, 0.9162772342266567, 0.9146666634771674, 0.8773781237577677, 0.9225003028513562]\n",
      "Ridge scores:  [0.9038047652846204, 0.9179653269237106, 0.9124074576684605, 0.8767803189945754, 0.9225849281714145] \n",
      "\n",
      "lasso scores:  [-2.6492570926437082, -2.583744594915966, -3.2845916808997897, -3.383673106031134, -2.3444321680197624] \n",
      "\n",
      "Simple mean cv r^2: 0.907 +- 0.016\n",
      "Ridge mean cv r^2: 0.907 +- 0.016\n",
      "lasso mean cv r^2: -2.849 +- 0.410\n"
     ]
    }
   ],
   "source": [
    "#run the CV\n",
    "\n",
    "kf = KFold(n_splits=5, shuffle=True, random_state = 70)\n",
    "cv_lm_r2s, cv_lm_reg_r2s ,cv_lm_las_r2s= [], [] ,[]#collect the validation results for both models\n",
    "\n",
    "for train_ind, val_ind in kf.split(X,y):\n",
    "    \n",
    "    X_train, y_train = X[train_ind], y[train_ind]\n",
    "    X_val, y_val = X[val_ind], y[val_ind] \n",
    "    \n",
    "    #simple linear regression\n",
    "    lm = LinearRegression()\n",
    "    lm_reg = Ridge(alpha=1)\n",
    "\n",
    "    lm.fit(X_train, y_train)\n",
    "    cv_lm_r2s.append(lm.score(X_val, y_val))\n",
    "    \n",
    "    #ridge with feature scaling\n",
    "    scaler = StandardScaler()\n",
    "    X_train_scaled = scaler.fit_transform(X_train)\n",
    "    X_val_scaled = scaler.transform(X_val)\n",
    "    \n",
    "    lm_reg.fit(X_train_scaled, y_train)\n",
    "    cv_lm_reg_r2s.append(lm_reg.score(X_val_scaled, y_val))\n",
    "    \n",
    "    #lasso with feature scaling\n",
    "    lr_model_lasso = Lasso(alpha = 100000)\n",
    "    lr_model_lasso.fit(X_train, y_train)\n",
    "    cv_lm_las_r2s.append(lr_model_lasso.score(X_val_scaled, y_val))\n",
    "\n",
    "print('Simple regression scores: ', cv_lm_r2s)\n",
    "print('Ridge scores: ', cv_lm_reg_r2s, '\\n')\n",
    "print('lasso scores: ', cv_lm_las_r2s, '\\n')\n",
    "\n",
    "print(f'Simple mean cv r^2: {np.mean(cv_lm_r2s):.3f} +- {np.std(cv_lm_r2s):.3f}')\n",
    "print(f'Ridge mean cv r^2: {np.mean(cv_lm_reg_r2s):.3f} +- {np.std(cv_lm_reg_r2s):.3f}')\n",
    "print(f'lasso mean cv r^2: {np.mean(cv_lm_las_r2s):.3f} +- {np.std(cv_lm_las_r2s):.3f}')"
   ]
  },
  {
   "cell_type": "code",
   "execution_count": 252,
   "id": "6cba5e55",
   "metadata": {},
   "outputs": [
    {
     "data": {
      "text/plain": [
       "0.9225003028513562"
      ]
     },
     "execution_count": 252,
     "metadata": {},
     "output_type": "execute_result"
    }
   ],
   "source": [
    "# generate predictions for X using lm fit model\n",
    "y_lm_preds =lm.predict(X_test) \n",
    "lm.score(X_val,y_val)"
   ]
  },
  {
   "cell_type": "code",
   "execution_count": 253,
   "id": "13d8015f",
   "metadata": {},
   "outputs": [
    {
     "data": {
      "text/plain": [
       "0.8352847528337612"
      ]
     },
     "execution_count": 253,
     "metadata": {},
     "output_type": "execute_result"
    }
   ],
   "source": [
    "#r2\n",
    "r2_score(y_test,y_lm_preds)"
   ]
  },
  {
   "cell_type": "code",
   "execution_count": 255,
   "id": "20c31a95",
   "metadata": {},
   "outputs": [
    {
     "name": "stdout",
     "output_type": "stream",
     "text": [
      "102339367.19261374\n",
      "80468201.38492724\n"
     ]
    }
   ],
   "source": [
    "#RMSE and MAE \n",
    "rmse = mean_squared_error(y_test, lm_preds, squared=False)\n",
    "mae = mean_absolute_error(y_test, lm_preds)\n",
    "print(rmse)\n",
    "print(mae)"
   ]
  },
  {
   "cell_type": "code",
   "execution_count": 256,
   "id": "563db91d",
   "metadata": {},
   "outputs": [
    {
     "data": {
      "text/plain": [
       "-2.3607416564095268e+16"
      ]
     },
     "execution_count": 256,
     "metadata": {},
     "output_type": "execute_result"
    }
   ],
   "source": [
    "# generate predictions for X using ridge fit model\n",
    "lm_reg_preds =lm_reg.predict(X_test) \n",
    "lm_reg.score(X_val,y_val)"
   ]
  },
  {
   "cell_type": "code",
   "execution_count": 257,
   "id": "165294c1",
   "metadata": {},
   "outputs": [
    {
     "data": {
      "text/plain": [
       "-2.6298594339530064e+16"
      ]
     },
     "execution_count": 257,
     "metadata": {},
     "output_type": "execute_result"
    }
   ],
   "source": [
    "r2_score(y_test,lm_reg_preds)"
   ]
  },
  {
   "cell_type": "code",
   "execution_count": 259,
   "id": "6322b5bc",
   "metadata": {},
   "outputs": [
    {
     "name": "stdout",
     "output_type": "stream",
     "text": [
      "4.0892352336480136e+16\n",
      "3.4179929384007876e+16\n"
     ]
    }
   ],
   "source": [
    "#RMSE and MAE \n",
    "rmse = mean_squared_error(y_test, lm_reg_preds, squared=False)\n",
    "mae = mean_absolute_error(y_test, lm_reg_preds)\n",
    "print(rmse)\n",
    "print(mae)"
   ]
  },
  {
   "cell_type": "code",
   "execution_count": 260,
   "id": "0ca6ca58",
   "metadata": {},
   "outputs": [
    {
     "data": {
      "text/plain": [
       "0.9226501139894288"
      ]
     },
     "execution_count": 260,
     "metadata": {},
     "output_type": "execute_result"
    }
   ],
   "source": [
    "# generate predictions for X using lasso fit model\n",
    "lr_lasso_preds =lr_model_lasso.predict(X_test) \n",
    "lr_model_lasso.score(X_val,y_val)"
   ]
  },
  {
   "cell_type": "code",
   "execution_count": 261,
   "id": "ce9813ed",
   "metadata": {},
   "outputs": [
    {
     "data": {
      "text/plain": [
       "0.8355902804822503"
      ]
     },
     "execution_count": 261,
     "metadata": {},
     "output_type": "execute_result"
    }
   ],
   "source": [
    "r2_score(y_test,lr_lasso_preds)"
   ]
  },
  {
   "cell_type": "code",
   "execution_count": 262,
   "id": "601a17f3",
   "metadata": {},
   "outputs": [
    {
     "name": "stdout",
     "output_type": "stream",
     "text": [
      "102244409.31954108\n",
      "80357952.99594386\n"
     ]
    }
   ],
   "source": [
    "#RMSE and MAE \n",
    "rmse = mean_squared_error(y_test, lr_lasso_preds, squared=False)\n",
    "mae = mean_absolute_error(y_test, lr_lasso_preds)\n",
    "print(rmse)\n",
    "print(mae)"
   ]
  },
  {
   "cell_type": "code",
   "execution_count": 263,
   "id": "40d62a39",
   "metadata": {},
   "outputs": [],
   "source": [
    "#3\n",
    "#x=Budget','primetime','Theaters','DomesticGross'\n",
    "\n",
    "X, y = movies[['Budget','primetime','Theaters','DomesticGross']], movies['WorldwideGross']\n",
    "\n",
    "\n",
    "X, X_test, y, y_test = train_test_split(X, y, test_size=.2, random_state=10) #hold out 20% of the data for final testing\n",
    "\n",
    "#this helps with the way kf will generate indices below\n",
    "X, y = np.array(X), np.array(y)"
   ]
  },
  {
   "cell_type": "code",
   "execution_count": 264,
   "id": "0adb465f",
   "metadata": {},
   "outputs": [
    {
     "name": "stdout",
     "output_type": "stream",
     "text": [
      "Simple regression scores:  [0.9030315088826437, 0.9132959241823817, 0.9114542255661365, 0.8650234065784386, 0.918191495408943]\n",
      "Ridge scores:  [0.9037874552287439, 0.9150482959870304, 0.9092990721557475, 0.8657048765551798, 0.9168724903872361] \n",
      "\n",
      "lasso scores:  [-2.3703065427789554, -2.3822012883415775, -3.0967975292027967, -3.2217638445618064, -1.9811388101216711] \n",
      "\n",
      "Simple mean cv r^2: 0.902 +- 0.019\n",
      "Ridge mean cv r^2: 0.902 +- 0.019\n",
      "lasso mean cv r^2: -2.610 +- 0.472\n"
     ]
    }
   ],
   "source": [
    "#run the CV\n",
    "\n",
    "kf = KFold(n_splits=5, shuffle=True, random_state = 70)\n",
    "cv_lm_r2s, cv_lm_reg_r2s ,cv_lm_las_r2s= [], [] ,[]#collect the validation results for both models\n",
    "\n",
    "for train_ind, val_ind in kf.split(X,y):\n",
    "    \n",
    "    X_train, y_train = X[train_ind],y[train_ind]\n",
    "    X_val, y_val = X[val_ind], y[val_ind] \n",
    "    \n",
    "    #simple linear regression\n",
    "    lm = LinearRegression()\n",
    "    lm_reg = Ridge(alpha=1)\n",
    "\n",
    "    lm.fit(X_train, y_train)\n",
    "    cv_lm_r2s.append(lm.score(X_val, y_val))\n",
    "    \n",
    "    #ridge with feature scaling\n",
    "    scaler = StandardScaler()\n",
    "    X_train_scaled = scaler.fit_transform(X_train)\n",
    "    X_val_scaled = scaler.transform(X_val)\n",
    "    lm_reg.fit(X_train_scaled, y_train)\n",
    "    cv_lm_reg_r2s.append(lm_reg.score(X_val_scaled, y_val))\n",
    "    \n",
    "    #lasso with feature scaling\n",
    "    lr_model_lasso = Lasso(alpha = 100000)\n",
    "    lr_model_lasso.fit(X_train, y_train)\n",
    "    cv_lm_las_r2s.append(lr_model_lasso.score(X_val_scaled, y_val))\n",
    "\n",
    "print('Simple regression scores: ', cv_lm_r2s)\n",
    "print('Ridge scores: ', cv_lm_reg_r2s, '\\n')\n",
    "print('lasso scores: ', cv_lm_las_r2s, '\\n')\n",
    "\n",
    "print(f'Simple mean cv r^2: {np.mean(cv_lm_r2s):.3f} +- {np.std(cv_lm_r2s):.3f}')\n",
    "print(f'Ridge mean cv r^2: {np.mean(cv_lm_reg_r2s):.3f} +- {np.std(cv_lm_reg_r2s):.3f}')\n",
    "print(f'lasso mean cv r^2: {np.mean(cv_lm_las_r2s):.3f} +- {np.std(cv_lm_las_r2s):.3f}')"
   ]
  },
  {
   "cell_type": "code",
   "execution_count": 265,
   "id": "36d0286d",
   "metadata": {},
   "outputs": [
    {
     "data": {
      "text/plain": [
       "0.918191495408943"
      ]
     },
     "execution_count": 265,
     "metadata": {},
     "output_type": "execute_result"
    }
   ],
   "source": [
    " # generate predictions for X using fit model\n",
    "y_preds =lm.predict(X_test)\n",
    "lm.score(X_val,y_val)"
   ]
  },
  {
   "cell_type": "code",
   "execution_count": 266,
   "id": "0851e531",
   "metadata": {},
   "outputs": [
    {
     "data": {
      "text/plain": [
       "0.8580928012577907"
      ]
     },
     "execution_count": 266,
     "metadata": {},
     "output_type": "execute_result"
    }
   ],
   "source": [
    "r2_score(y_test,y_preds)"
   ]
  },
  {
   "cell_type": "code",
   "execution_count": 267,
   "id": "c605cf80",
   "metadata": {},
   "outputs": [
    {
     "name": "stdout",
     "output_type": "stream",
     "text": [
      "102339367.19261374\n",
      "80468201.38492724\n"
     ]
    }
   ],
   "source": [
    "#RMSE and MAE \n",
    "rmse = mean_squared_error(y_test, lm_preds, squared=False)\n",
    "mae = mean_absolute_error(y_test, lm_preds)\n",
    "print(rmse)\n",
    "print(mae)"
   ]
  },
  {
   "cell_type": "code",
   "execution_count": 268,
   "id": "bd8dc579",
   "metadata": {},
   "outputs": [
    {
     "data": {
      "text/plain": [
       "-2.2386308748187156e+16"
      ]
     },
     "execution_count": 268,
     "metadata": {},
     "output_type": "execute_result"
    }
   ],
   "source": [
    "# generate predictions for X using ridge fit model\n",
    "y_ridge_preds =lm_reg.predict(X_test) \n",
    "lm_reg.score(X_val,y_val)"
   ]
  },
  {
   "cell_type": "code",
   "execution_count": 269,
   "id": "05c5e317",
   "metadata": {},
   "outputs": [
    {
     "data": {
      "text/plain": [
       "-2.4831148192428876e+16"
      ]
     },
     "execution_count": 269,
     "metadata": {},
     "output_type": "execute_result"
    }
   ],
   "source": [
    "r2_score(y_test,y_ridge_preds)"
   ]
  },
  {
   "cell_type": "code",
   "execution_count": 270,
   "id": "ea442140",
   "metadata": {},
   "outputs": [
    {
     "name": "stdout",
     "output_type": "stream",
     "text": [
      "4.0892352336480136e+16\n",
      "3.4179929384007876e+16\n"
     ]
    }
   ],
   "source": [
    "#RMSE and MAE for ridge  model\n",
    "rmse = mean_squared_error(y_test, lm_reg_preds, squared=False)\n",
    "mae = mean_absolute_error(y_test, lm_reg_preds)\n",
    "print(rmse)\n",
    "print(mae)"
   ]
  },
  {
   "cell_type": "code",
   "execution_count": 271,
   "id": "9c2b9146",
   "metadata": {},
   "outputs": [
    {
     "data": {
      "text/plain": [
       "0.9184506638880298"
      ]
     },
     "execution_count": 271,
     "metadata": {},
     "output_type": "execute_result"
    }
   ],
   "source": [
    "# generate predictions for X using lasso fit model\n",
    "y_lasso_preds =lr_model_lasso.predict(X_test) \n",
    "lr_model_lasso.score(X_val,y_val)"
   ]
  },
  {
   "cell_type": "code",
   "execution_count": 272,
   "id": "c15e088e",
   "metadata": {},
   "outputs": [
    {
     "data": {
      "text/plain": [
       "0.8580603315664269"
      ]
     },
     "execution_count": 272,
     "metadata": {},
     "output_type": "execute_result"
    }
   ],
   "source": [
    "r2_score(y_test,y_lasso_preds)"
   ]
  },
  {
   "cell_type": "code",
   "execution_count": 273,
   "id": "59483698",
   "metadata": {},
   "outputs": [
    {
     "name": "stdout",
     "output_type": "stream",
     "text": [
      "102244409.31954108\n",
      "80357952.99594386\n"
     ]
    }
   ],
   "source": [
    "#RMSE and MAE for lasso fit model\n",
    "rmse = mean_squared_error(y_test, lr_lasso_preds, squared=False)\n",
    "mae = mean_absolute_error(y_test, lr_lasso_preds)\n",
    "print(rmse)\n",
    "print(mae)"
   ]
  },
  {
   "cell_type": "code",
   "execution_count": 274,
   "id": "84627f55",
   "metadata": {},
   "outputs": [],
   "source": [
    "x_lasso_transform = (X_test*lr_model_lasso.coef_).sum(axis=1)\n",
    "x2_lasso_transform = (X_train*lr_model_lasso.coef_).sum(axis=1)"
   ]
  },
  {
   "cell_type": "code",
   "execution_count": 275,
   "id": "6d4bc7e1",
   "metadata": {},
   "outputs": [
    {
     "data": {
      "image/png": "[encoded data removed]",
      "text/plain": [
       "<Figure size 432x288 with 1 Axes>"
      ]
     },
     "metadata": {
      "needs_background": "light"
     },
     "output_type": "display_data"
    }
   ],
   "source": [
    "plt.scatter(x2_lasso_transform, y_train, label='Train Data')\n",
    "plt.scatter(x_lasso_transform, y_test , label='True Values')\n",
    "plt.scatter(x_lasso_transform, y_lasso_preds, label='Predicted')\n",
    "plt.ylabel('WorldwideGross')\n",
    "plt.xlabel('Features')\n",
    "plt.legend();"
   ]
  },
  {
   "cell_type": "code",
   "execution_count": 276,
   "id": "1ff0caa1",
   "metadata": {},
   "outputs": [],
   "source": [
    "import scipy.stats as stats\n",
    "def show_normal_qq(resid):\n",
    "    stats.probplot(resid, dist=\"norm\", plot=plt)\n",
    "    plt.title(\"Normal Q-Q plot\")\n",
    "    plt.show()"
   ]
  },
  {
   "cell_type": "code",
   "execution_count": 277,
   "id": "16cfb655",
   "metadata": {},
   "outputs": [
    {
     "data": {
      "image/png": "[encoded data removed]",
      "text/plain": [
       "<Figure size 432x288 with 1 Axes>"
      ]
     },
     "metadata": {
      "needs_background": "light"
     },
     "output_type": "display_data"
    }
   ],
   "source": [
    "residuals = y_preds - y_test\n",
    "show_normal_qq(residuals)"
   ]
  },
  {
   "cell_type": "code",
   "execution_count": null,
   "id": "d5d166f7",
   "metadata": {},
   "outputs": [],
   "source": []
  },
  {
   "cell_type": "code",
   "execution_count": null,
   "id": "23b79a24",
   "metadata": {},
   "outputs": [],
   "source": []
  }
 ],
 "metadata": {
  "kernelspec": {
   "display_name": "Python 3",
   "language": "python",
   "name": "python3"
  },
  "language_info": {
   "codemirror_mode": {
    "name": "ipython",
    "version": 3
   },
   "file_extension": ".py",
   "mimetype": "text/x-python",
   "name": "python",
   "nbconvert_exporter": "python",
   "pygments_lexer": "ipython3",
   "version": "3.8.8"
  }
 },
 "nbformat": 4,
 "nbformat_minor": 5
}
